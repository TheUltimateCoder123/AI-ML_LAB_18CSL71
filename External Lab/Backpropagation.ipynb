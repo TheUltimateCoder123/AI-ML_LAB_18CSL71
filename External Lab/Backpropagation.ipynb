{
 "cells": [
  {
   "cell_type": "code",
   "execution_count": null,
   "id": "121d0504",
   "metadata": {},
   "outputs": [],
   "source": [
    "####Backpropagation Algorithm..........................."
   ]
  },
  {
   "cell_type": "code",
   "execution_count": 7,
   "id": "17e40444",
   "metadata": {},
   "outputs": [],
   "source": [
    "import numpy as np\n",
    "X = np.array(([2, 9], [1, 5], [3, 6]), dtype=float)\n",
    "y = np.array(([92], [86], [89]), dtype=float)\n",
    "X = X/np.amax(X,axis=0)\n",
    "y = y/100"
   ]
  },
  {
   "cell_type": "code",
   "execution_count": 8,
   "id": "308682b0",
   "metadata": {},
   "outputs": [],
   "source": [
    "def sigmoid (x):\n",
    "    return 1/(1 + np.exp(-x))"
   ]
  },
  {
   "cell_type": "code",
   "execution_count": 9,
   "id": "8127bfc3",
   "metadata": {},
   "outputs": [],
   "source": [
    "def derivatives_sigmoid(x):\n",
    "    return x * (1 - x)"
   ]
  },
  {
   "cell_type": "code",
   "execution_count": 10,
   "id": "b5efc730",
   "metadata": {},
   "outputs": [],
   "source": [
    "epoch=5 \n",
    "lr=0.1\n",
    "in1 = 2\n",
    "hn = 3\n",
    "on = 1 "
   ]
  },
  {
   "cell_type": "code",
   "execution_count": 11,
   "id": "f70e8cf0",
   "metadata": {},
   "outputs": [],
   "source": [
    "wh=np.random.uniform(size=(in1,hn))\n",
    "bh=np.random.uniform(size=(1,hn))\n",
    "wout=np.random.uniform(size=(hn,on))\n",
    "bout=np.random.uniform(size=(1,on))"
   ]
  },
  {
   "cell_type": "code",
   "execution_count": 16,
   "id": "49a98a01",
   "metadata": {},
   "outputs": [
    {
     "name": "stdout",
     "output_type": "stream",
     "text": [
      "-----------Epoch- 1 Starts----------\n",
      "Input: \n",
      "[[0.66666667 1.        ]\n",
      " [0.33333333 0.55555556]\n",
      " [1.         0.66666667]]\n",
      "Predicted Output: \n",
      " [[0.82418274]\n",
      " [0.81454111]\n",
      " [0.82758316]]\n",
      "Actual Output: \n",
      "[[0.92]\n",
      " [0.86]\n",
      " [0.89]]\n",
      "-----------Epoch- 2 Starts----------\n",
      "Input: \n",
      "[[0.66666667 1.        ]\n",
      " [0.33333333 0.55555556]\n",
      " [1.         0.66666667]]\n",
      "Predicted Output: \n",
      " [[0.82506458]\n",
      " [0.81537886]\n",
      " [0.82847289]]\n",
      "Actual Output: \n",
      "[[0.92]\n",
      " [0.86]\n",
      " [0.89]]\n",
      "-----------Epoch- 3 Starts----------\n",
      "Input: \n",
      "[[0.66666667 1.        ]\n",
      " [0.33333333 0.55555556]\n",
      " [1.         0.66666667]]\n",
      "Predicted Output: \n",
      " [[0.82592859]\n",
      " [0.8162    ]\n",
      " [0.82934447]]\n",
      "Actual Output: \n",
      "[[0.92]\n",
      " [0.86]\n",
      " [0.89]]\n",
      "-----------Epoch- 4 Starts----------\n",
      "Input: \n",
      "[[0.66666667 1.        ]\n",
      " [0.33333333 0.55555556]\n",
      " [1.         0.66666667]]\n",
      "Predicted Output: \n",
      " [[0.82677529]\n",
      " [0.81700501]\n",
      " [0.83019845]]\n",
      "Actual Output: \n",
      "[[0.92]\n",
      " [0.86]\n",
      " [0.89]]\n",
      "-----------Epoch- 5 Starts----------\n",
      "Input: \n",
      "[[0.66666667 1.        ]\n",
      " [0.33333333 0.55555556]\n",
      " [1.         0.66666667]]\n",
      "Predicted Output: \n",
      " [[0.82760521]\n",
      " [0.81779437]\n",
      " [0.83103535]]\n",
      "Actual Output: \n",
      "[[0.92]\n",
      " [0.86]\n",
      " [0.89]]\n"
     ]
    }
   ],
   "source": [
    "for i in range(epoch):\n",
    "    input1=sigmoid(np.dot(X,wh)+bh)\n",
    "    output=sigmoid(np.dot(input1,wout)+bout) \n",
    "####This Commented one is not required for output but perform backward propagation so it's should be included ......but for o/p leave it.\n",
    "hiddengrad = derivatives_sigmoid(input1)",
    "#     out_grad=(y-output)*derivatives_sigmoid(output)\n",
    "#     wout+=input1.T.dot(out_grad)*lr\n",
    "#     d_hidden_layer=output_grad.dot(wout.T)*hiddengrad\n",
    "#     wh+=X.T.dot(d_hidden_layer)*lr\n",
    "    print (\"-----------Epoch-\", i+1, \"Starts----------\")\n",
    "    print(\"Input: \\n\" + str(X))\n",
    "    print(\"Predicted Output: \\n\" ,output)\n",
    "    print(\"Actual Output: \\n\" + str(y))"
   ]
  },
  {
   "cell_type": "code",
   "execution_count": null,
   "id": "cc39b981",
   "metadata": {},
   "outputs": [],
   "source": []
  },
  {
   "cell_type": "code",
   "execution_count": null,
   "id": "26b55d47",
   "metadata": {},
   "outputs": [],
   "source": []
  },
  {
   "cell_type": "code",
   "execution_count": null,
   "id": "996ea4f5",
   "metadata": {},
   "outputs": [],
   "source": []
  }
 ],
 "metadata": {
  "kernelspec": {
   "display_name": "Python 3 (ipykernel)",
   "language": "python",
   "name": "python3"
  },
  "language_info": {
   "codemirror_mode": {
    "name": "ipython",
    "version": 3
   },
   "file_extension": ".py",
   "mimetype": "text/x-python",
   "name": "python",
   "nbconvert_exporter": "python",
   "pygments_lexer": "ipython3",
   "version": "3.9.7"
  }
 },
 "nbformat": 4,
 "nbformat_minor": 5
}
