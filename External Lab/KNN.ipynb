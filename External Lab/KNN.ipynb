{
 "cells": [
  {
   "cell_type": "code",
   "execution_count": 1,
   "id": "5532c28e",
   "metadata": {},
   "outputs": [],
   "source": [
    "from sklearn.metrics import classification_report,confusion_matrix\n",
    "from sklearn.model_selection import train_test_split\n",
    "from sklearn import datasets\n",
    "from sklearn.neighbors import KNeighborsClassifier"
   ]
  },
  {
   "cell_type": "code",
   "execution_count": 2,
   "id": "7d454bcd",
   "metadata": {},
   "outputs": [],
   "source": [
    "data=datasets.load_iris()\n",
    "iris_data=data.data\n",
    "iris_label=data.target"
   ]
  },
  {
   "cell_type": "code",
   "execution_count": 3,
   "id": "f47ced0e",
   "metadata": {},
   "outputs": [],
   "source": [
    "xtrain,xtest,ytrain,ytest=train_test_split(iris_data,iris_label,test_size=0.3)\n",
    "classifier=KNeighborsClassifier(n_neighbors=5)\n",
    "classifier.fit(xtrain,ytrain)\n",
    "ypred=classifier.predict(xtest)"
   ]
  },
  {
   "cell_type": "code",
   "execution_count": 4,
   "id": "c62cdf8d",
   "metadata": {},
   "outputs": [
    {
     "name": "stdout",
     "output_type": "stream",
     "text": [
      "confusion Matix is\n",
      "[[16  0  0]\n",
      " [ 0 12  0]\n",
      " [ 0  1 16]]\n",
      "Classififcation report is\n",
      "              precision    recall  f1-score   support\n",
      "\n",
      "           0       1.00      1.00      1.00        16\n",
      "           1       0.92      1.00      0.96        12\n",
      "           2       1.00      0.94      0.97        17\n",
      "\n",
      "    accuracy                           0.98        45\n",
      "   macro avg       0.97      0.98      0.98        45\n",
      "weighted avg       0.98      0.98      0.98        45\n",
      "\n"
     ]
    }
   ],
   "source": [
    "print(\"confusion Matix is\")\n",
    "print(confusion_matrix(ytest,ypred))\n",
    "print(\"Classififcation report is\")\n",
    "print(classification_report(ytest,ypred))"
   ]
  },
  {
   "cell_type": "code",
   "execution_count": 5,
   "id": "25a070d2",
   "metadata": {},
   "outputs": [
    {
     "name": "stdout",
     "output_type": "stream",
     "text": [
      "\n",
      " \n",
      "Original Label            Predicted Label           Correct/Wrong            \n",
      " \n",
      "2                         2                         Correct                  \n",
      "1                         1                         Correct                  \n",
      "2                         2                         Correct                  \n",
      "0                         0                         Correct                  \n",
      "2                         2                         Correct                  \n",
      "2                         2                         Correct                  \n",
      "2                         2                         Correct                  \n",
      "0                         0                         Correct                  \n",
      "0                         0                         Correct                  \n",
      "0                         0                         Correct                  \n",
      "0                         0                         Correct                  \n",
      "2                         2                         Correct                  \n",
      "1                         1                         Correct                  \n",
      "1                         1                         Correct                  \n",
      "2                         2                         Correct                  \n",
      "0                         0                         Correct                  \n",
      "0                         0                         Correct                  \n",
      "2                         2                         Correct                  \n",
      "0                         0                         Correct                  \n",
      "2                         2                         Correct                  \n",
      "1                         1                         Correct                  \n",
      "2                         1                         Wrong                    \n",
      "0                         0                         Correct                  \n",
      "2                         2                         Correct                  \n",
      "2                         2                         Correct                  \n",
      "1                         1                         Correct                  \n",
      "0                         0                         Correct                  \n",
      "1                         1                         Correct                  \n",
      "0                         0                         Correct                  \n",
      "2                         2                         Correct                  \n",
      "2                         2                         Correct                  \n",
      "1                         1                         Correct                  \n",
      "1                         1                         Correct                  \n",
      "2                         2                         Correct                  \n",
      "0                         0                         Correct                  \n",
      "2                         2                         Correct                  \n",
      "1                         1                         Correct                  \n",
      "0                         0                         Correct                  \n",
      "0                         0                         Correct                  \n",
      "1                         1                         Correct                  \n",
      "1                         1                         Correct                  \n",
      "0                         0                         Correct                  \n",
      "0                         0                         Correct                  \n",
      "1                         1                         Correct                  \n",
      "2                         2                         Correct                  \n"
     ]
    }
   ],
   "source": [
    "i = 0\n",
    "print (\"\\n \")\n",
    "print ('%-25s %-25s %-25s' % ('Original Label', 'Predicted Label', 'Correct/Wrong'))\n",
    "print (\" \")\n",
    "for label in ytest:\n",
    "    print ('%-25s %-25s' % (label, ypred[i]), end=\"\")\n",
    "    if (label == ypred[i]):\n",
    "        print (' %-25s' % ('Correct'))\n",
    "    else:\n",
    "        print (' %-25s' % ('Wrong'))\n",
    "    i = i + 1"
   ]
  },
  {
   "cell_type": "code",
   "execution_count": null,
   "id": "a0ad07d6",
   "metadata": {},
   "outputs": [],
   "source": []
  },
  {
   "cell_type": "code",
   "execution_count": null,
   "id": "6a6b6d0a",
   "metadata": {},
   "outputs": [],
   "source": []
  },
  {
   "cell_type": "code",
   "execution_count": null,
   "id": "f92efcdb",
   "metadata": {},
   "outputs": [],
   "source": []
  },
  {
   "cell_type": "code",
   "execution_count": null,
   "id": "71649634",
   "metadata": {},
   "outputs": [],
   "source": []
  }
 ],
 "metadata": {
  "kernelspec": {
   "display_name": "Python 3 (ipykernel)",
   "language": "python",
   "name": "python3"
  },
  "language_info": {
   "codemirror_mode": {
    "name": "ipython",
    "version": 3
   },
   "file_extension": ".py",
   "mimetype": "text/x-python",
   "name": "python",
   "nbconvert_exporter": "python",
   "pygments_lexer": "ipython3",
   "version": "3.9.7"
  }
 },
 "nbformat": 4,
 "nbformat_minor": 5
}
