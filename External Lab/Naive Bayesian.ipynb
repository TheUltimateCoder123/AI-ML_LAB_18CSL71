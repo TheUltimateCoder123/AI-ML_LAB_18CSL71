{
 "cells": [
  {
   "cell_type": "code",
   "execution_count": 1,
   "id": "7bda0be0",
   "metadata": {},
   "outputs": [],
   "source": [
    "import numpy as np\n",
    "import pandas as pd\n",
    "from sklearn.model_selection import train_test_split\n",
    "from sklearn.feature_extraction.text import CountVectorizer\n",
    "from sklearn.naive_bayes import MultinomialNB\n",
    "from sklearn.metrics import accuracy_score, confusion_matrix, precision_score, recall_score"
   ]
  },
  {
   "cell_type": "code",
   "execution_count": 2,
   "id": "b7cadbd6",
   "metadata": {},
   "outputs": [
    {
     "name": "stdout",
     "output_type": "stream",
     "text": [
      "We will have good fun tomorrow -> pos\n",
      "I love to dance -> pos\n",
      "What an awesome view -> pos\n",
      "He is my sworn enemy -> pos\n",
      "This is an awesome place -> neg\n"
     ]
    }
   ],
   "source": [
    "msg = pd.read_csv('naive.csv', names=['message', 'label'])\n",
    "msg['labelnum'] = msg.label.map({'pos': 1, 'neg': 0})\n",
    "X = msg.message\n",
    "y = msg.labelnum\n",
    "Xtrain, Xtest, ytrain, ytest = train_test_split(X, y)\n",
    "xtrainc=Xtrain #saved for w while to print sentences later",
    "count_v = CountVectorizer()\n",
    "Xtrain_dm = count_v.fit_transform(Xtrain)\n",
    "Xtest_dm = count_v.transform(Xtest)\n",
    "clf = MultinomialNB()\n",
    "clf.fit(Xtrain_dm, ytrain)\n",
    "pred = clf.predict(Xtest_dm)\n",
    "for doc, p in zip(xtrainc, pred):\n",
    "    p = 'pos' if p == 1 else 'neg'\n",
    "    print(\"%s -> %s\" % (doc, p))"
   ]
  },
  {
   "cell_type": "code",
   "execution_count": 3,
   "id": "635ded0e",
   "metadata": {},
   "outputs": [
    {
     "name": "stdout",
     "output_type": "stream",
     "text": [
      "Accuracy Metrics: \n",
      "\n",
      "Accuracy:  0.4\n",
      "Recall:  1.0\n",
      "Precision:  0.25\n",
      "Confusion Matrix: \n",
      " [[1 3]\n",
      " [0 1]]\n"
     ]
    }
   ],
   "source": [
    "print('Accuracy Metrics: \\n')\n",
    "print('Accuracy: ', accuracy_score(ytest, pred))\n",
    "print('Recall: ', recall_score(ytest, pred))\n",
    "print('Precision: ', precision_score(ytest, pred))\n",
    "print('Confusion Matrix: \\n', confusion_matrix(ytest, pred))"
   ]
  },
  {
   "cell_type": "code",
   "execution_count": null,
   "id": "edca18cf",
   "metadata": {},
   "outputs": [],
   "source": []
  }
 ],
 "metadata": {
  "kernelspec": {
   "display_name": "Python 3 (ipykernel)",
   "language": "python",
   "name": "python3"
  },
  "language_info": {
   "codemirror_mode": {
    "name": "ipython",
    "version": 3
   },
   "file_extension": ".py",
   "mimetype": "text/x-python",
   "name": "python",
   "nbconvert_exporter": "python",
   "pygments_lexer": "ipython3",
   "version": "3.9.7"
  }
 },
 "nbformat": 4,
 "nbformat_minor": 5
}
